{
  "nbformat": 4,
  "nbformat_minor": 0,
  "metadata": {
    "colab": {
      "name": "1301170405_1301183484_Alex Wira W_Adiv Harjadinata.ipynb",
      "provenance": [],
      "collapsed_sections": [],
      "toc_visible": true
    },
    "kernelspec": {
      "name": "python3",
      "display_name": "Python 3"
    },
    "language_info": {
      "name": "python"
    }
  },
  "cells": [
    {
      "cell_type": "markdown",
      "metadata": {
        "id": "akyif5Qu8hfn"
      },
      "source": [
        "**Tugas Besar Machine Learning 2 : Classification**\n",
        "\n",
        "Adiv Harjadinata - 1301183484\n",
        "\n",
        "IF - 42 - 01"
      ]
    },
    {
      "cell_type": "markdown",
      "metadata": {
        "id": "Q-6tirCUx9MH"
      },
      "source": [
        "# Library"
      ]
    },
    {
      "cell_type": "code",
      "metadata": {
        "id": "muITOqrremq6"
      },
      "source": [
        "import pandas as pd\n",
        "import numpy as np\n",
        "import matplotlib.pyplot as plt\n",
        "from sklearn.preprocessing import MinMaxScaler\n",
        "from sklearn.linear_model import LogisticRegression\n",
        "from sklearn.metrics import confusion_matrix, accuracy_score"
      ],
      "execution_count": 1,
      "outputs": []
    },
    {
      "cell_type": "markdown",
      "metadata": {
        "id": "0EkaLOrhyDPI"
      },
      "source": [
        "# Dataset"
      ]
    },
    {
      "cell_type": "markdown",
      "metadata": {
        "id": "i35xB2cM0sua"
      },
      "source": [
        "## Dataset Overview"
      ]
    },
    {
      "cell_type": "markdown",
      "metadata": {
        "id": "YLQS0RHRBku4"
      },
      "source": [
        "Mengimport dataset salju dan mengambil kolom yang akan diamati yaitu SuhuMin, SuhuMax, Hujan, SinarMatahari, Awan3pm, Suhu3pm, dan Bersalju besok. Berdasarkan panduan dalam mengerjakan dataset Salju\n",
        "\n",
        "Kemudian menampilkan gambaran isi dari dataset"
      ]
    },
    {
      "cell_type": "code",
      "metadata": {
        "colab": {
          "base_uri": "https://localhost:8080/",
          "height": 204
        },
        "id": "qA2YFfo5jdBp",
        "outputId": "0ffb9ae7-f08c-4c89-efc5-c65d0acd4972"
      },
      "source": [
        "df_salju_test = pd.read_csv('salju_test.csv')\n",
        "df_salju_test = df_salju_test[['SuhuMin','SuhuMax','Hujan','SinarMatahari','Awan3pm','Suhu3pm','BersaljuBesok']]\n",
        "df_salju_test.head()"
      ],
      "execution_count": 2,
      "outputs": [
        {
          "output_type": "execute_result",
          "data": {
            "text/html": [
              "<div>\n",
              "<style scoped>\n",
              "    .dataframe tbody tr th:only-of-type {\n",
              "        vertical-align: middle;\n",
              "    }\n",
              "\n",
              "    .dataframe tbody tr th {\n",
              "        vertical-align: top;\n",
              "    }\n",
              "\n",
              "    .dataframe thead th {\n",
              "        text-align: right;\n",
              "    }\n",
              "</style>\n",
              "<table border=\"1\" class=\"dataframe\">\n",
              "  <thead>\n",
              "    <tr style=\"text-align: right;\">\n",
              "      <th></th>\n",
              "      <th>SuhuMin</th>\n",
              "      <th>SuhuMax</th>\n",
              "      <th>Hujan</th>\n",
              "      <th>SinarMatahari</th>\n",
              "      <th>Awan3pm</th>\n",
              "      <th>Suhu3pm</th>\n",
              "      <th>BersaljuBesok</th>\n",
              "    </tr>\n",
              "  </thead>\n",
              "  <tbody>\n",
              "    <tr>\n",
              "      <th>0</th>\n",
              "      <td>11.0</td>\n",
              "      <td>27.5</td>\n",
              "      <td>0.0</td>\n",
              "      <td>6.4</td>\n",
              "      <td>7.0</td>\n",
              "      <td>23.6</td>\n",
              "      <td>No</td>\n",
              "    </tr>\n",
              "    <tr>\n",
              "      <th>1</th>\n",
              "      <td>10.0</td>\n",
              "      <td>19.9</td>\n",
              "      <td>0.2</td>\n",
              "      <td>NaN</td>\n",
              "      <td>1.0</td>\n",
              "      <td>18.9</td>\n",
              "      <td>Yes</td>\n",
              "    </tr>\n",
              "    <tr>\n",
              "      <th>2</th>\n",
              "      <td>9.2</td>\n",
              "      <td>27.2</td>\n",
              "      <td>0.0</td>\n",
              "      <td>10.4</td>\n",
              "      <td>1.0</td>\n",
              "      <td>26.3</td>\n",
              "      <td>No</td>\n",
              "    </tr>\n",
              "    <tr>\n",
              "      <th>3</th>\n",
              "      <td>17.7</td>\n",
              "      <td>27.0</td>\n",
              "      <td>0.0</td>\n",
              "      <td>6.7</td>\n",
              "      <td>6.0</td>\n",
              "      <td>26.4</td>\n",
              "      <td>No</td>\n",
              "    </tr>\n",
              "    <tr>\n",
              "      <th>4</th>\n",
              "      <td>2.3</td>\n",
              "      <td>7.9</td>\n",
              "      <td>88.0</td>\n",
              "      <td>NaN</td>\n",
              "      <td>NaN</td>\n",
              "      <td>6.0</td>\n",
              "      <td>No</td>\n",
              "    </tr>\n",
              "  </tbody>\n",
              "</table>\n",
              "</div>"
            ],
            "text/plain": [
              "   SuhuMin  SuhuMax  Hujan  SinarMatahari  Awan3pm  Suhu3pm BersaljuBesok\n",
              "0     11.0     27.5    0.0            6.4      7.0     23.6            No\n",
              "1     10.0     19.9    0.2            NaN      1.0     18.9           Yes\n",
              "2      9.2     27.2    0.0           10.4      1.0     26.3            No\n",
              "3     17.7     27.0    0.0            6.7      6.0     26.4            No\n",
              "4      2.3      7.9   88.0            NaN      NaN      6.0            No"
            ]
          },
          "metadata": {
            "tags": []
          },
          "execution_count": 2
        }
      ]
    },
    {
      "cell_type": "code",
      "metadata": {
        "colab": {
          "base_uri": "https://localhost:8080/",
          "height": 204
        },
        "id": "nUaZ564SkTIH",
        "outputId": "34e9f0c2-5911-4f24-ee35-3bc2d2ce39da"
      },
      "source": [
        "df_salju_train = pd.read_csv('salju_train.csv')\n",
        "df_salju_train = df_salju_train[['SuhuMin','SuhuMax','Hujan','SinarMatahari','Awan3pm','Suhu3pm','BersaljuBesok']]\n",
        "df_salju_train.head()"
      ],
      "execution_count": 3,
      "outputs": [
        {
          "output_type": "execute_result",
          "data": {
            "text/html": [
              "<div>\n",
              "<style scoped>\n",
              "    .dataframe tbody tr th:only-of-type {\n",
              "        vertical-align: middle;\n",
              "    }\n",
              "\n",
              "    .dataframe tbody tr th {\n",
              "        vertical-align: top;\n",
              "    }\n",
              "\n",
              "    .dataframe thead th {\n",
              "        text-align: right;\n",
              "    }\n",
              "</style>\n",
              "<table border=\"1\" class=\"dataframe\">\n",
              "  <thead>\n",
              "    <tr style=\"text-align: right;\">\n",
              "      <th></th>\n",
              "      <th>SuhuMin</th>\n",
              "      <th>SuhuMax</th>\n",
              "      <th>Hujan</th>\n",
              "      <th>SinarMatahari</th>\n",
              "      <th>Awan3pm</th>\n",
              "      <th>Suhu3pm</th>\n",
              "      <th>BersaljuBesok</th>\n",
              "    </tr>\n",
              "  </thead>\n",
              "  <tbody>\n",
              "    <tr>\n",
              "      <th>0</th>\n",
              "      <td>10.4</td>\n",
              "      <td>15.5</td>\n",
              "      <td>4.8</td>\n",
              "      <td>NaN</td>\n",
              "      <td>NaN</td>\n",
              "      <td>15.0</td>\n",
              "      <td>Tidak</td>\n",
              "    </tr>\n",
              "    <tr>\n",
              "      <th>1</th>\n",
              "      <td>9.0</td>\n",
              "      <td>17.0</td>\n",
              "      <td>8.0</td>\n",
              "      <td>7.4</td>\n",
              "      <td>5.0</td>\n",
              "      <td>15.5</td>\n",
              "      <td>Ya</td>\n",
              "    </tr>\n",
              "    <tr>\n",
              "      <th>2</th>\n",
              "      <td>18.2</td>\n",
              "      <td>32.0</td>\n",
              "      <td>0.0</td>\n",
              "      <td>NaN</td>\n",
              "      <td>NaN</td>\n",
              "      <td>29.6</td>\n",
              "      <td>Tidak</td>\n",
              "    </tr>\n",
              "    <tr>\n",
              "      <th>3</th>\n",
              "      <td>7.3</td>\n",
              "      <td>24.5</td>\n",
              "      <td>0.0</td>\n",
              "      <td>10.4</td>\n",
              "      <td>7.0</td>\n",
              "      <td>23.2</td>\n",
              "      <td>Tidak</td>\n",
              "    </tr>\n",
              "    <tr>\n",
              "      <th>4</th>\n",
              "      <td>5.9</td>\n",
              "      <td>20.3</td>\n",
              "      <td>0.0</td>\n",
              "      <td>12.6</td>\n",
              "      <td>6.0</td>\n",
              "      <td>18.1</td>\n",
              "      <td>Tidak</td>\n",
              "    </tr>\n",
              "  </tbody>\n",
              "</table>\n",
              "</div>"
            ],
            "text/plain": [
              "   SuhuMin  SuhuMax  Hujan  SinarMatahari  Awan3pm  Suhu3pm BersaljuBesok\n",
              "0     10.4     15.5    4.8            NaN      NaN     15.0         Tidak\n",
              "1      9.0     17.0    8.0            7.4      5.0     15.5            Ya\n",
              "2     18.2     32.0    0.0            NaN      NaN     29.6         Tidak\n",
              "3      7.3     24.5    0.0           10.4      7.0     23.2         Tidak\n",
              "4      5.9     20.3    0.0           12.6      6.0     18.1         Tidak"
            ]
          },
          "metadata": {
            "tags": []
          },
          "execution_count": 3
        }
      ]
    },
    {
      "cell_type": "markdown",
      "metadata": {
        "id": "XKIC5TWPCQul"
      },
      "source": [
        "Menampilkan tipe dari kolom dataset"
      ]
    },
    {
      "cell_type": "code",
      "metadata": {
        "colab": {
          "base_uri": "https://localhost:8080/"
        },
        "id": "ZJQa2SgYkLEI",
        "outputId": "5c3f06f8-4f2e-400d-e86a-6b77d301969c"
      },
      "source": [
        "df_salju_test.info()"
      ],
      "execution_count": 4,
      "outputs": [
        {
          "output_type": "stream",
          "text": [
            "<class 'pandas.core.frame.DataFrame'>\n",
            "RangeIndex: 18182 entries, 0 to 18181\n",
            "Data columns (total 7 columns):\n",
            " #   Column         Non-Null Count  Dtype  \n",
            "---  ------         --------------  -----  \n",
            " 0   SuhuMin        18017 non-null  float64\n",
            " 1   SuhuMax        18017 non-null  float64\n",
            " 2   Hujan          17795 non-null  float64\n",
            " 3   SinarMatahari  9464 non-null   float64\n",
            " 4   Awan3pm        10726 non-null  float64\n",
            " 5   Suhu3pm        17740 non-null  float64\n",
            " 6   BersaljuBesok  17763 non-null  object \n",
            "dtypes: float64(6), object(1)\n",
            "memory usage: 994.5+ KB\n"
          ],
          "name": "stdout"
        }
      ]
    },
    {
      "cell_type": "code",
      "metadata": {
        "colab": {
          "base_uri": "https://localhost:8080/"
        },
        "id": "1Mh7SI2Hk4Vf",
        "outputId": "a57ebb32-d820-415d-a5a8-d2988a0784a5"
      },
      "source": [
        "df_salju_train.info()"
      ],
      "execution_count": 5,
      "outputs": [
        {
          "output_type": "stream",
          "text": [
            "<class 'pandas.core.frame.DataFrame'>\n",
            "RangeIndex: 109095 entries, 0 to 109094\n",
            "Data columns (total 7 columns):\n",
            " #   Column         Non-Null Count   Dtype  \n",
            "---  ------         --------------   -----  \n",
            " 0   SuhuMin        107973 non-null  float64\n",
            " 1   SuhuMax        108166 non-null  float64\n",
            " 2   Hujan          106664 non-null  float64\n",
            " 3   SinarMatahari  56716 non-null   float64\n",
            " 4   Awan3pm        64624 non-null   float64\n",
            " 5   Suhu3pm        106397 non-null  float64\n",
            " 6   BersaljuBesok  106664 non-null  object \n",
            "dtypes: float64(6), object(1)\n",
            "memory usage: 5.8+ MB\n"
          ],
          "name": "stdout"
        }
      ]
    },
    {
      "cell_type": "markdown",
      "metadata": {
        "id": "qlVTwjOZ1g3n"
      },
      "source": [
        "## Data Preprocessing"
      ]
    },
    {
      "cell_type": "markdown",
      "metadata": {
        "id": "BybTj8b702If"
      },
      "source": [
        "### Mengisi data kolom yang bernilai NaN"
      ]
    },
    {
      "cell_type": "markdown",
      "metadata": {
        "id": "MW_nvkbsCWbV"
      },
      "source": [
        "Melakukan perulangan dari dataset untuk mengisi nilai data dari setiap kolom yang berisi NaN dengan median dari kolom tersebut jika bertipe float64.\n",
        "Jika bertipe object akan diisi dengan mean"
      ]
    },
    {
      "cell_type": "code",
      "metadata": {
        "colab": {
          "base_uri": "https://localhost:8080/",
          "height": 419
        },
        "id": "cSrirQqbk7l5",
        "outputId": "aa5cebce-6c8b-4674-c72e-11b5208c5c6d"
      },
      "source": [
        "for col in df_salju_test:\n",
        "  if df_salju_test[col].dtype == 'float64':\n",
        "    df_salju_test[col] = df_salju_test[col].fillna(df_salju_test[col].median())\n",
        "  else:\n",
        "    df_salju_test[col] = df_salju_test[col].fillna(df_salju_test[col].mode()[0])\n",
        "    \n",
        "df_salju_test"
      ],
      "execution_count": 6,
      "outputs": [
        {
          "output_type": "execute_result",
          "data": {
            "text/html": [
              "<div>\n",
              "<style scoped>\n",
              "    .dataframe tbody tr th:only-of-type {\n",
              "        vertical-align: middle;\n",
              "    }\n",
              "\n",
              "    .dataframe tbody tr th {\n",
              "        vertical-align: top;\n",
              "    }\n",
              "\n",
              "    .dataframe thead th {\n",
              "        text-align: right;\n",
              "    }\n",
              "</style>\n",
              "<table border=\"1\" class=\"dataframe\">\n",
              "  <thead>\n",
              "    <tr style=\"text-align: right;\">\n",
              "      <th></th>\n",
              "      <th>SuhuMin</th>\n",
              "      <th>SuhuMax</th>\n",
              "      <th>Hujan</th>\n",
              "      <th>SinarMatahari</th>\n",
              "      <th>Awan3pm</th>\n",
              "      <th>Suhu3pm</th>\n",
              "      <th>BersaljuBesok</th>\n",
              "    </tr>\n",
              "  </thead>\n",
              "  <tbody>\n",
              "    <tr>\n",
              "      <th>0</th>\n",
              "      <td>11.0</td>\n",
              "      <td>27.5</td>\n",
              "      <td>0.0</td>\n",
              "      <td>6.4</td>\n",
              "      <td>7.0</td>\n",
              "      <td>23.6</td>\n",
              "      <td>No</td>\n",
              "    </tr>\n",
              "    <tr>\n",
              "      <th>1</th>\n",
              "      <td>10.0</td>\n",
              "      <td>19.9</td>\n",
              "      <td>0.2</td>\n",
              "      <td>8.4</td>\n",
              "      <td>1.0</td>\n",
              "      <td>18.9</td>\n",
              "      <td>Yes</td>\n",
              "    </tr>\n",
              "    <tr>\n",
              "      <th>2</th>\n",
              "      <td>9.2</td>\n",
              "      <td>27.2</td>\n",
              "      <td>0.0</td>\n",
              "      <td>10.4</td>\n",
              "      <td>1.0</td>\n",
              "      <td>26.3</td>\n",
              "      <td>No</td>\n",
              "    </tr>\n",
              "    <tr>\n",
              "      <th>3</th>\n",
              "      <td>17.7</td>\n",
              "      <td>27.0</td>\n",
              "      <td>0.0</td>\n",
              "      <td>6.7</td>\n",
              "      <td>6.0</td>\n",
              "      <td>26.4</td>\n",
              "      <td>No</td>\n",
              "    </tr>\n",
              "    <tr>\n",
              "      <th>4</th>\n",
              "      <td>2.3</td>\n",
              "      <td>7.9</td>\n",
              "      <td>88.0</td>\n",
              "      <td>8.4</td>\n",
              "      <td>5.0</td>\n",
              "      <td>6.0</td>\n",
              "      <td>No</td>\n",
              "    </tr>\n",
              "    <tr>\n",
              "      <th>...</th>\n",
              "      <td>...</td>\n",
              "      <td>...</td>\n",
              "      <td>...</td>\n",
              "      <td>...</td>\n",
              "      <td>...</td>\n",
              "      <td>...</td>\n",
              "      <td>...</td>\n",
              "    </tr>\n",
              "    <tr>\n",
              "      <th>18177</th>\n",
              "      <td>7.8</td>\n",
              "      <td>25.8</td>\n",
              "      <td>0.0</td>\n",
              "      <td>13.2</td>\n",
              "      <td>1.0</td>\n",
              "      <td>24.0</td>\n",
              "      <td>No</td>\n",
              "    </tr>\n",
              "    <tr>\n",
              "      <th>18178</th>\n",
              "      <td>12.4</td>\n",
              "      <td>26.6</td>\n",
              "      <td>0.0</td>\n",
              "      <td>11.6</td>\n",
              "      <td>1.0</td>\n",
              "      <td>25.7</td>\n",
              "      <td>No</td>\n",
              "    </tr>\n",
              "    <tr>\n",
              "      <th>18179</th>\n",
              "      <td>6.7</td>\n",
              "      <td>22.9</td>\n",
              "      <td>0.0</td>\n",
              "      <td>8.4</td>\n",
              "      <td>2.0</td>\n",
              "      <td>22.0</td>\n",
              "      <td>No</td>\n",
              "    </tr>\n",
              "    <tr>\n",
              "      <th>18180</th>\n",
              "      <td>12.5</td>\n",
              "      <td>26.7</td>\n",
              "      <td>0.0</td>\n",
              "      <td>10.8</td>\n",
              "      <td>5.0</td>\n",
              "      <td>25.4</td>\n",
              "      <td>No</td>\n",
              "    </tr>\n",
              "    <tr>\n",
              "      <th>18181</th>\n",
              "      <td>12.3</td>\n",
              "      <td>15.9</td>\n",
              "      <td>8.2</td>\n",
              "      <td>8.4</td>\n",
              "      <td>5.0</td>\n",
              "      <td>15.4</td>\n",
              "      <td>Yes</td>\n",
              "    </tr>\n",
              "  </tbody>\n",
              "</table>\n",
              "<p>18182 rows × 7 columns</p>\n",
              "</div>"
            ],
            "text/plain": [
              "       SuhuMin  SuhuMax  Hujan  SinarMatahari  Awan3pm  Suhu3pm BersaljuBesok\n",
              "0         11.0     27.5    0.0            6.4      7.0     23.6            No\n",
              "1         10.0     19.9    0.2            8.4      1.0     18.9           Yes\n",
              "2          9.2     27.2    0.0           10.4      1.0     26.3            No\n",
              "3         17.7     27.0    0.0            6.7      6.0     26.4            No\n",
              "4          2.3      7.9   88.0            8.4      5.0      6.0            No\n",
              "...        ...      ...    ...            ...      ...      ...           ...\n",
              "18177      7.8     25.8    0.0           13.2      1.0     24.0            No\n",
              "18178     12.4     26.6    0.0           11.6      1.0     25.7            No\n",
              "18179      6.7     22.9    0.0            8.4      2.0     22.0            No\n",
              "18180     12.5     26.7    0.0           10.8      5.0     25.4            No\n",
              "18181     12.3     15.9    8.2            8.4      5.0     15.4           Yes\n",
              "\n",
              "[18182 rows x 7 columns]"
            ]
          },
          "metadata": {
            "tags": []
          },
          "execution_count": 6
        }
      ]
    },
    {
      "cell_type": "code",
      "metadata": {
        "id": "Nl0UEHSPTE_l",
        "colab": {
          "base_uri": "https://localhost:8080/",
          "height": 419
        },
        "outputId": "7345a906-59fa-4400-9de7-084d2aef9599"
      },
      "source": [
        "for col in df_salju_train:\n",
        "  if df_salju_train[col].dtype == 'float64':\n",
        "    df_salju_train[col] = df_salju_train[col].fillna(df_salju_train[col].median())\n",
        "  else:\n",
        "    df_salju_train[col] = df_salju_train[col].fillna(df_salju_train[col].mode()[0])\n",
        "    \n",
        "df_salju_train"
      ],
      "execution_count": 7,
      "outputs": [
        {
          "output_type": "execute_result",
          "data": {
            "text/html": [
              "<div>\n",
              "<style scoped>\n",
              "    .dataframe tbody tr th:only-of-type {\n",
              "        vertical-align: middle;\n",
              "    }\n",
              "\n",
              "    .dataframe tbody tr th {\n",
              "        vertical-align: top;\n",
              "    }\n",
              "\n",
              "    .dataframe thead th {\n",
              "        text-align: right;\n",
              "    }\n",
              "</style>\n",
              "<table border=\"1\" class=\"dataframe\">\n",
              "  <thead>\n",
              "    <tr style=\"text-align: right;\">\n",
              "      <th></th>\n",
              "      <th>SuhuMin</th>\n",
              "      <th>SuhuMax</th>\n",
              "      <th>Hujan</th>\n",
              "      <th>SinarMatahari</th>\n",
              "      <th>Awan3pm</th>\n",
              "      <th>Suhu3pm</th>\n",
              "      <th>BersaljuBesok</th>\n",
              "    </tr>\n",
              "  </thead>\n",
              "  <tbody>\n",
              "    <tr>\n",
              "      <th>0</th>\n",
              "      <td>10.4</td>\n",
              "      <td>15.5</td>\n",
              "      <td>4.8</td>\n",
              "      <td>8.4</td>\n",
              "      <td>5.0</td>\n",
              "      <td>15.0</td>\n",
              "      <td>Tidak</td>\n",
              "    </tr>\n",
              "    <tr>\n",
              "      <th>1</th>\n",
              "      <td>9.0</td>\n",
              "      <td>17.0</td>\n",
              "      <td>8.0</td>\n",
              "      <td>7.4</td>\n",
              "      <td>5.0</td>\n",
              "      <td>15.5</td>\n",
              "      <td>Ya</td>\n",
              "    </tr>\n",
              "    <tr>\n",
              "      <th>2</th>\n",
              "      <td>18.2</td>\n",
              "      <td>32.0</td>\n",
              "      <td>0.0</td>\n",
              "      <td>8.4</td>\n",
              "      <td>5.0</td>\n",
              "      <td>29.6</td>\n",
              "      <td>Tidak</td>\n",
              "    </tr>\n",
              "    <tr>\n",
              "      <th>3</th>\n",
              "      <td>7.3</td>\n",
              "      <td>24.5</td>\n",
              "      <td>0.0</td>\n",
              "      <td>10.4</td>\n",
              "      <td>7.0</td>\n",
              "      <td>23.2</td>\n",
              "      <td>Tidak</td>\n",
              "    </tr>\n",
              "    <tr>\n",
              "      <th>4</th>\n",
              "      <td>5.9</td>\n",
              "      <td>20.3</td>\n",
              "      <td>0.0</td>\n",
              "      <td>12.6</td>\n",
              "      <td>6.0</td>\n",
              "      <td>18.1</td>\n",
              "      <td>Tidak</td>\n",
              "    </tr>\n",
              "    <tr>\n",
              "      <th>...</th>\n",
              "      <td>...</td>\n",
              "      <td>...</td>\n",
              "      <td>...</td>\n",
              "      <td>...</td>\n",
              "      <td>...</td>\n",
              "      <td>...</td>\n",
              "      <td>...</td>\n",
              "    </tr>\n",
              "    <tr>\n",
              "      <th>109090</th>\n",
              "      <td>20.1</td>\n",
              "      <td>23.7</td>\n",
              "      <td>0.0</td>\n",
              "      <td>8.9</td>\n",
              "      <td>6.0</td>\n",
              "      <td>22.1</td>\n",
              "      <td>Ya</td>\n",
              "    </tr>\n",
              "    <tr>\n",
              "      <th>109091</th>\n",
              "      <td>15.7</td>\n",
              "      <td>25.2</td>\n",
              "      <td>0.0</td>\n",
              "      <td>8.4</td>\n",
              "      <td>5.0</td>\n",
              "      <td>24.4</td>\n",
              "      <td>Ya</td>\n",
              "    </tr>\n",
              "    <tr>\n",
              "      <th>109092</th>\n",
              "      <td>7.5</td>\n",
              "      <td>20.4</td>\n",
              "      <td>1.6</td>\n",
              "      <td>8.4</td>\n",
              "      <td>5.0</td>\n",
              "      <td>19.8</td>\n",
              "      <td>Tidak</td>\n",
              "    </tr>\n",
              "    <tr>\n",
              "      <th>109093</th>\n",
              "      <td>10.8</td>\n",
              "      <td>29.8</td>\n",
              "      <td>0.0</td>\n",
              "      <td>11.2</td>\n",
              "      <td>1.0</td>\n",
              "      <td>29.2</td>\n",
              "      <td>Tidak</td>\n",
              "    </tr>\n",
              "    <tr>\n",
              "      <th>109094</th>\n",
              "      <td>12.3</td>\n",
              "      <td>27.4</td>\n",
              "      <td>9.0</td>\n",
              "      <td>8.4</td>\n",
              "      <td>5.0</td>\n",
              "      <td>23.3</td>\n",
              "      <td>Tidak</td>\n",
              "    </tr>\n",
              "  </tbody>\n",
              "</table>\n",
              "<p>109095 rows × 7 columns</p>\n",
              "</div>"
            ],
            "text/plain": [
              "        SuhuMin  SuhuMax  Hujan  SinarMatahari  Awan3pm  Suhu3pm BersaljuBesok\n",
              "0          10.4     15.5    4.8            8.4      5.0     15.0         Tidak\n",
              "1           9.0     17.0    8.0            7.4      5.0     15.5            Ya\n",
              "2          18.2     32.0    0.0            8.4      5.0     29.6         Tidak\n",
              "3           7.3     24.5    0.0           10.4      7.0     23.2         Tidak\n",
              "4           5.9     20.3    0.0           12.6      6.0     18.1         Tidak\n",
              "...         ...      ...    ...            ...      ...      ...           ...\n",
              "109090     20.1     23.7    0.0            8.9      6.0     22.1            Ya\n",
              "109091     15.7     25.2    0.0            8.4      5.0     24.4            Ya\n",
              "109092      7.5     20.4    1.6            8.4      5.0     19.8         Tidak\n",
              "109093     10.8     29.8    0.0           11.2      1.0     29.2         Tidak\n",
              "109094     12.3     27.4    9.0            8.4      5.0     23.3         Tidak\n",
              "\n",
              "[109095 rows x 7 columns]"
            ]
          },
          "metadata": {
            "tags": []
          },
          "execution_count": 7
        }
      ]
    },
    {
      "cell_type": "markdown",
      "metadata": {
        "id": "WT3U5YAm1LfI"
      },
      "source": [
        "### Pengecekan Data NaN"
      ]
    },
    {
      "cell_type": "markdown",
      "metadata": {
        "id": "6tQww6pRCsiZ"
      },
      "source": [
        "Melakukan pengecekan kembali apakah masih ada nilai data yang berisi NaN"
      ]
    },
    {
      "cell_type": "code",
      "metadata": {
        "colab": {
          "base_uri": "https://localhost:8080/"
        },
        "id": "W_AsrWTlcV6r",
        "outputId": "460cbe9f-1c26-4dfa-dc06-495cfe1b62f1"
      },
      "source": [
        "df_salju_test.isna().sum()"
      ],
      "execution_count": 8,
      "outputs": [
        {
          "output_type": "execute_result",
          "data": {
            "text/plain": [
              "SuhuMin          0\n",
              "SuhuMax          0\n",
              "Hujan            0\n",
              "SinarMatahari    0\n",
              "Awan3pm          0\n",
              "Suhu3pm          0\n",
              "BersaljuBesok    0\n",
              "dtype: int64"
            ]
          },
          "metadata": {
            "tags": []
          },
          "execution_count": 8
        }
      ]
    },
    {
      "cell_type": "code",
      "metadata": {
        "colab": {
          "base_uri": "https://localhost:8080/"
        },
        "id": "NkHpzgHyccKd",
        "outputId": "ce518595-6d9c-4e09-93c7-a5eaa63934e4"
      },
      "source": [
        "df_salju_train.isna().sum()"
      ],
      "execution_count": 9,
      "outputs": [
        {
          "output_type": "execute_result",
          "data": {
            "text/plain": [
              "SuhuMin          0\n",
              "SuhuMax          0\n",
              "Hujan            0\n",
              "SinarMatahari    0\n",
              "Awan3pm          0\n",
              "Suhu3pm          0\n",
              "BersaljuBesok    0\n",
              "dtype: int64"
            ]
          },
          "metadata": {
            "tags": []
          },
          "execution_count": 9
        }
      ]
    },
    {
      "cell_type": "markdown",
      "metadata": {
        "id": "aBO9zV5q14pQ"
      },
      "source": [
        "### Encode Label"
      ]
    },
    {
      "cell_type": "markdown",
      "metadata": {
        "id": "9Iq54Zf_C808"
      },
      "source": [
        "Tahap ini dilakukan encoding label yaitu kolom BersaljuBesok.\n",
        "Isi kolom ini akan diubah menjadi 1 dan 0 dari Ya dan Tidak.\n",
        "\n",
        "\n",
        "Proses ini dilakukan agar saat memproses data tidak ada bertipe object dan full bertipe float64."
      ]
    },
    {
      "cell_type": "code",
      "metadata": {
        "colab": {
          "base_uri": "https://localhost:8080/",
          "height": 419
        },
        "id": "AlsgmDYWc-mE",
        "outputId": "ad173a3e-9313-46ed-a60f-3f6cb10584d7"
      },
      "source": [
        "df_salju_test[\"BersaljuBesok\"].replace([\"Yes\", \"No\"], [1,0], inplace = True)\n",
        "df_salju_test"
      ],
      "execution_count": 10,
      "outputs": [
        {
          "output_type": "execute_result",
          "data": {
            "text/html": [
              "<div>\n",
              "<style scoped>\n",
              "    .dataframe tbody tr th:only-of-type {\n",
              "        vertical-align: middle;\n",
              "    }\n",
              "\n",
              "    .dataframe tbody tr th {\n",
              "        vertical-align: top;\n",
              "    }\n",
              "\n",
              "    .dataframe thead th {\n",
              "        text-align: right;\n",
              "    }\n",
              "</style>\n",
              "<table border=\"1\" class=\"dataframe\">\n",
              "  <thead>\n",
              "    <tr style=\"text-align: right;\">\n",
              "      <th></th>\n",
              "      <th>SuhuMin</th>\n",
              "      <th>SuhuMax</th>\n",
              "      <th>Hujan</th>\n",
              "      <th>SinarMatahari</th>\n",
              "      <th>Awan3pm</th>\n",
              "      <th>Suhu3pm</th>\n",
              "      <th>BersaljuBesok</th>\n",
              "    </tr>\n",
              "  </thead>\n",
              "  <tbody>\n",
              "    <tr>\n",
              "      <th>0</th>\n",
              "      <td>11.0</td>\n",
              "      <td>27.5</td>\n",
              "      <td>0.0</td>\n",
              "      <td>6.4</td>\n",
              "      <td>7.0</td>\n",
              "      <td>23.6</td>\n",
              "      <td>0</td>\n",
              "    </tr>\n",
              "    <tr>\n",
              "      <th>1</th>\n",
              "      <td>10.0</td>\n",
              "      <td>19.9</td>\n",
              "      <td>0.2</td>\n",
              "      <td>8.4</td>\n",
              "      <td>1.0</td>\n",
              "      <td>18.9</td>\n",
              "      <td>1</td>\n",
              "    </tr>\n",
              "    <tr>\n",
              "      <th>2</th>\n",
              "      <td>9.2</td>\n",
              "      <td>27.2</td>\n",
              "      <td>0.0</td>\n",
              "      <td>10.4</td>\n",
              "      <td>1.0</td>\n",
              "      <td>26.3</td>\n",
              "      <td>0</td>\n",
              "    </tr>\n",
              "    <tr>\n",
              "      <th>3</th>\n",
              "      <td>17.7</td>\n",
              "      <td>27.0</td>\n",
              "      <td>0.0</td>\n",
              "      <td>6.7</td>\n",
              "      <td>6.0</td>\n",
              "      <td>26.4</td>\n",
              "      <td>0</td>\n",
              "    </tr>\n",
              "    <tr>\n",
              "      <th>4</th>\n",
              "      <td>2.3</td>\n",
              "      <td>7.9</td>\n",
              "      <td>88.0</td>\n",
              "      <td>8.4</td>\n",
              "      <td>5.0</td>\n",
              "      <td>6.0</td>\n",
              "      <td>0</td>\n",
              "    </tr>\n",
              "    <tr>\n",
              "      <th>...</th>\n",
              "      <td>...</td>\n",
              "      <td>...</td>\n",
              "      <td>...</td>\n",
              "      <td>...</td>\n",
              "      <td>...</td>\n",
              "      <td>...</td>\n",
              "      <td>...</td>\n",
              "    </tr>\n",
              "    <tr>\n",
              "      <th>18177</th>\n",
              "      <td>7.8</td>\n",
              "      <td>25.8</td>\n",
              "      <td>0.0</td>\n",
              "      <td>13.2</td>\n",
              "      <td>1.0</td>\n",
              "      <td>24.0</td>\n",
              "      <td>0</td>\n",
              "    </tr>\n",
              "    <tr>\n",
              "      <th>18178</th>\n",
              "      <td>12.4</td>\n",
              "      <td>26.6</td>\n",
              "      <td>0.0</td>\n",
              "      <td>11.6</td>\n",
              "      <td>1.0</td>\n",
              "      <td>25.7</td>\n",
              "      <td>0</td>\n",
              "    </tr>\n",
              "    <tr>\n",
              "      <th>18179</th>\n",
              "      <td>6.7</td>\n",
              "      <td>22.9</td>\n",
              "      <td>0.0</td>\n",
              "      <td>8.4</td>\n",
              "      <td>2.0</td>\n",
              "      <td>22.0</td>\n",
              "      <td>0</td>\n",
              "    </tr>\n",
              "    <tr>\n",
              "      <th>18180</th>\n",
              "      <td>12.5</td>\n",
              "      <td>26.7</td>\n",
              "      <td>0.0</td>\n",
              "      <td>10.8</td>\n",
              "      <td>5.0</td>\n",
              "      <td>25.4</td>\n",
              "      <td>0</td>\n",
              "    </tr>\n",
              "    <tr>\n",
              "      <th>18181</th>\n",
              "      <td>12.3</td>\n",
              "      <td>15.9</td>\n",
              "      <td>8.2</td>\n",
              "      <td>8.4</td>\n",
              "      <td>5.0</td>\n",
              "      <td>15.4</td>\n",
              "      <td>1</td>\n",
              "    </tr>\n",
              "  </tbody>\n",
              "</table>\n",
              "<p>18182 rows × 7 columns</p>\n",
              "</div>"
            ],
            "text/plain": [
              "       SuhuMin  SuhuMax  Hujan  SinarMatahari  Awan3pm  Suhu3pm  BersaljuBesok\n",
              "0         11.0     27.5    0.0            6.4      7.0     23.6              0\n",
              "1         10.0     19.9    0.2            8.4      1.0     18.9              1\n",
              "2          9.2     27.2    0.0           10.4      1.0     26.3              0\n",
              "3         17.7     27.0    0.0            6.7      6.0     26.4              0\n",
              "4          2.3      7.9   88.0            8.4      5.0      6.0              0\n",
              "...        ...      ...    ...            ...      ...      ...            ...\n",
              "18177      7.8     25.8    0.0           13.2      1.0     24.0              0\n",
              "18178     12.4     26.6    0.0           11.6      1.0     25.7              0\n",
              "18179      6.7     22.9    0.0            8.4      2.0     22.0              0\n",
              "18180     12.5     26.7    0.0           10.8      5.0     25.4              0\n",
              "18181     12.3     15.9    8.2            8.4      5.0     15.4              1\n",
              "\n",
              "[18182 rows x 7 columns]"
            ]
          },
          "metadata": {
            "tags": []
          },
          "execution_count": 10
        }
      ]
    },
    {
      "cell_type": "code",
      "metadata": {
        "colab": {
          "base_uri": "https://localhost:8080/",
          "height": 419
        },
        "id": "3q5lEfQMeJUU",
        "outputId": "4667056e-01a2-4787-c2d9-5e58d2bffabc"
      },
      "source": [
        "df_salju_train[\"BersaljuBesok\"].replace([\"Ya\", \"Tidak\"], [1,0], inplace = True)\n",
        "df_salju_train"
      ],
      "execution_count": 11,
      "outputs": [
        {
          "output_type": "execute_result",
          "data": {
            "text/html": [
              "<div>\n",
              "<style scoped>\n",
              "    .dataframe tbody tr th:only-of-type {\n",
              "        vertical-align: middle;\n",
              "    }\n",
              "\n",
              "    .dataframe tbody tr th {\n",
              "        vertical-align: top;\n",
              "    }\n",
              "\n",
              "    .dataframe thead th {\n",
              "        text-align: right;\n",
              "    }\n",
              "</style>\n",
              "<table border=\"1\" class=\"dataframe\">\n",
              "  <thead>\n",
              "    <tr style=\"text-align: right;\">\n",
              "      <th></th>\n",
              "      <th>SuhuMin</th>\n",
              "      <th>SuhuMax</th>\n",
              "      <th>Hujan</th>\n",
              "      <th>SinarMatahari</th>\n",
              "      <th>Awan3pm</th>\n",
              "      <th>Suhu3pm</th>\n",
              "      <th>BersaljuBesok</th>\n",
              "    </tr>\n",
              "  </thead>\n",
              "  <tbody>\n",
              "    <tr>\n",
              "      <th>0</th>\n",
              "      <td>10.4</td>\n",
              "      <td>15.5</td>\n",
              "      <td>4.8</td>\n",
              "      <td>8.4</td>\n",
              "      <td>5.0</td>\n",
              "      <td>15.0</td>\n",
              "      <td>0</td>\n",
              "    </tr>\n",
              "    <tr>\n",
              "      <th>1</th>\n",
              "      <td>9.0</td>\n",
              "      <td>17.0</td>\n",
              "      <td>8.0</td>\n",
              "      <td>7.4</td>\n",
              "      <td>5.0</td>\n",
              "      <td>15.5</td>\n",
              "      <td>1</td>\n",
              "    </tr>\n",
              "    <tr>\n",
              "      <th>2</th>\n",
              "      <td>18.2</td>\n",
              "      <td>32.0</td>\n",
              "      <td>0.0</td>\n",
              "      <td>8.4</td>\n",
              "      <td>5.0</td>\n",
              "      <td>29.6</td>\n",
              "      <td>0</td>\n",
              "    </tr>\n",
              "    <tr>\n",
              "      <th>3</th>\n",
              "      <td>7.3</td>\n",
              "      <td>24.5</td>\n",
              "      <td>0.0</td>\n",
              "      <td>10.4</td>\n",
              "      <td>7.0</td>\n",
              "      <td>23.2</td>\n",
              "      <td>0</td>\n",
              "    </tr>\n",
              "    <tr>\n",
              "      <th>4</th>\n",
              "      <td>5.9</td>\n",
              "      <td>20.3</td>\n",
              "      <td>0.0</td>\n",
              "      <td>12.6</td>\n",
              "      <td>6.0</td>\n",
              "      <td>18.1</td>\n",
              "      <td>0</td>\n",
              "    </tr>\n",
              "    <tr>\n",
              "      <th>...</th>\n",
              "      <td>...</td>\n",
              "      <td>...</td>\n",
              "      <td>...</td>\n",
              "      <td>...</td>\n",
              "      <td>...</td>\n",
              "      <td>...</td>\n",
              "      <td>...</td>\n",
              "    </tr>\n",
              "    <tr>\n",
              "      <th>109090</th>\n",
              "      <td>20.1</td>\n",
              "      <td>23.7</td>\n",
              "      <td>0.0</td>\n",
              "      <td>8.9</td>\n",
              "      <td>6.0</td>\n",
              "      <td>22.1</td>\n",
              "      <td>1</td>\n",
              "    </tr>\n",
              "    <tr>\n",
              "      <th>109091</th>\n",
              "      <td>15.7</td>\n",
              "      <td>25.2</td>\n",
              "      <td>0.0</td>\n",
              "      <td>8.4</td>\n",
              "      <td>5.0</td>\n",
              "      <td>24.4</td>\n",
              "      <td>1</td>\n",
              "    </tr>\n",
              "    <tr>\n",
              "      <th>109092</th>\n",
              "      <td>7.5</td>\n",
              "      <td>20.4</td>\n",
              "      <td>1.6</td>\n",
              "      <td>8.4</td>\n",
              "      <td>5.0</td>\n",
              "      <td>19.8</td>\n",
              "      <td>0</td>\n",
              "    </tr>\n",
              "    <tr>\n",
              "      <th>109093</th>\n",
              "      <td>10.8</td>\n",
              "      <td>29.8</td>\n",
              "      <td>0.0</td>\n",
              "      <td>11.2</td>\n",
              "      <td>1.0</td>\n",
              "      <td>29.2</td>\n",
              "      <td>0</td>\n",
              "    </tr>\n",
              "    <tr>\n",
              "      <th>109094</th>\n",
              "      <td>12.3</td>\n",
              "      <td>27.4</td>\n",
              "      <td>9.0</td>\n",
              "      <td>8.4</td>\n",
              "      <td>5.0</td>\n",
              "      <td>23.3</td>\n",
              "      <td>0</td>\n",
              "    </tr>\n",
              "  </tbody>\n",
              "</table>\n",
              "<p>109095 rows × 7 columns</p>\n",
              "</div>"
            ],
            "text/plain": [
              "        SuhuMin  SuhuMax  Hujan  SinarMatahari  Awan3pm  Suhu3pm  BersaljuBesok\n",
              "0          10.4     15.5    4.8            8.4      5.0     15.0              0\n",
              "1           9.0     17.0    8.0            7.4      5.0     15.5              1\n",
              "2          18.2     32.0    0.0            8.4      5.0     29.6              0\n",
              "3           7.3     24.5    0.0           10.4      7.0     23.2              0\n",
              "4           5.9     20.3    0.0           12.6      6.0     18.1              0\n",
              "...         ...      ...    ...            ...      ...      ...            ...\n",
              "109090     20.1     23.7    0.0            8.9      6.0     22.1              1\n",
              "109091     15.7     25.2    0.0            8.4      5.0     24.4              1\n",
              "109092      7.5     20.4    1.6            8.4      5.0     19.8              0\n",
              "109093     10.8     29.8    0.0           11.2      1.0     29.2              0\n",
              "109094     12.3     27.4    9.0            8.4      5.0     23.3              0\n",
              "\n",
              "[109095 rows x 7 columns]"
            ]
          },
          "metadata": {
            "tags": []
          },
          "execution_count": 11
        }
      ]
    },
    {
      "cell_type": "markdown",
      "metadata": {
        "id": "TFDLMajBpxkm"
      },
      "source": [
        "Ekspor dataset yang sudah diolah"
      ]
    },
    {
      "cell_type": "code",
      "metadata": {
        "id": "ad9JS72ZpEcj"
      },
      "source": [
        "df_salju_test.to_csv('salju_test_terolah.csv')\n",
        "df_salju_train.to_csv('salju_train_terolah.csv')"
      ],
      "execution_count": 12,
      "outputs": []
    },
    {
      "cell_type": "markdown",
      "metadata": {
        "id": "zEvPgiCO2zna"
      },
      "source": [
        "### Train Model"
      ]
    },
    {
      "cell_type": "markdown",
      "metadata": {
        "id": "PmsMTNSiDjUh"
      },
      "source": [
        "Melakukan split data menjadi dua variable yaitu x dan y\n",
        "\n",
        "X adalah data keseluruhan\n",
        "Y adalah data Label"
      ]
    },
    {
      "cell_type": "code",
      "metadata": {
        "id": "inPk0Iflfl8f"
      },
      "source": [
        "x_test = df_salju_test.iloc[1:, :-1].values\n",
        "y_test = df_salju_test.iloc[1:, -1].values\n",
        "\n",
        "x_train = df_salju_train.iloc[1:, :-1].values\n",
        "y_train = df_salju_train.iloc[1:, -1].values"
      ],
      "execution_count": 13,
      "outputs": []
    },
    {
      "cell_type": "markdown",
      "metadata": {
        "id": "hlVreTPa39YM"
      },
      "source": [
        "### Scaling data"
      ]
    },
    {
      "cell_type": "markdown",
      "metadata": {
        "id": "Isikm2siD2MG"
      },
      "source": [
        "Scaling data dilakukan dengan **MinMaxScaler** agar persebaran data tidak terlalu jauh nilainya"
      ]
    },
    {
      "cell_type": "code",
      "metadata": {
        "id": "XO5_D-_Ig_qk"
      },
      "source": [
        "min_max_scaler = MinMaxScaler()\n",
        "x_test = min_max_scaler.fit_transform(x_test)\n",
        "x_train = min_max_scaler.transform(x_train)"
      ],
      "execution_count": 14,
      "outputs": []
    },
    {
      "cell_type": "markdown",
      "metadata": {
        "id": "bxUWxKLU2u65"
      },
      "source": [
        "# Pemodelan"
      ]
    },
    {
      "cell_type": "markdown",
      "metadata": {
        "id": "eDzF3zzm4H85"
      },
      "source": [
        "## Klasifikasi Data"
      ]
    },
    {
      "cell_type": "markdown",
      "metadata": {
        "id": "iVGkK2azEIQ9"
      },
      "source": [
        "Pada tahap klasifikasi dilakukan dengan metode **Logistic Regression** yang menjadi metode utama"
      ]
    },
    {
      "cell_type": "code",
      "metadata": {
        "colab": {
          "base_uri": "https://localhost:8080/"
        },
        "id": "C5_h0ocGi9or",
        "outputId": "55d09571-caad-4e07-f62d-29611395c2b9"
      },
      "source": [
        "model = LogisticRegression(random_state=0)\n",
        "model.fit(x_train,y_train)"
      ],
      "execution_count": 15,
      "outputs": [
        {
          "output_type": "execute_result",
          "data": {
            "text/plain": [
              "LogisticRegression(C=1.0, class_weight=None, dual=False, fit_intercept=True,\n",
              "                   intercept_scaling=1, l1_ratio=None, max_iter=100,\n",
              "                   multi_class='auto', n_jobs=None, penalty='l2',\n",
              "                   random_state=0, solver='lbfgs', tol=0.0001, verbose=0,\n",
              "                   warm_start=False)"
            ]
          },
          "metadata": {
            "tags": []
          },
          "execution_count": 15
        }
      ]
    },
    {
      "cell_type": "code",
      "metadata": {
        "colab": {
          "base_uri": "https://localhost:8080/",
          "height": 419
        },
        "id": "rvNhlJ5njKt9",
        "outputId": "de5a27a5-5c78-467d-8096-dd5bd18e75f5"
      },
      "source": [
        "predict = model.predict(x_test)\n",
        "result = pd.concat([pd.DataFrame(y_test,columns=['Pasti']), pd.DataFrame(predict,columns=['Prediksi'])], axis=1)\n",
        "result"
      ],
      "execution_count": 16,
      "outputs": [
        {
          "output_type": "execute_result",
          "data": {
            "text/html": [
              "<div>\n",
              "<style scoped>\n",
              "    .dataframe tbody tr th:only-of-type {\n",
              "        vertical-align: middle;\n",
              "    }\n",
              "\n",
              "    .dataframe tbody tr th {\n",
              "        vertical-align: top;\n",
              "    }\n",
              "\n",
              "    .dataframe thead th {\n",
              "        text-align: right;\n",
              "    }\n",
              "</style>\n",
              "<table border=\"1\" class=\"dataframe\">\n",
              "  <thead>\n",
              "    <tr style=\"text-align: right;\">\n",
              "      <th></th>\n",
              "      <th>Pasti</th>\n",
              "      <th>Prediksi</th>\n",
              "    </tr>\n",
              "  </thead>\n",
              "  <tbody>\n",
              "    <tr>\n",
              "      <th>0</th>\n",
              "      <td>1</td>\n",
              "      <td>0</td>\n",
              "    </tr>\n",
              "    <tr>\n",
              "      <th>1</th>\n",
              "      <td>0</td>\n",
              "      <td>0</td>\n",
              "    </tr>\n",
              "    <tr>\n",
              "      <th>2</th>\n",
              "      <td>0</td>\n",
              "      <td>0</td>\n",
              "    </tr>\n",
              "    <tr>\n",
              "      <th>3</th>\n",
              "      <td>0</td>\n",
              "      <td>1</td>\n",
              "    </tr>\n",
              "    <tr>\n",
              "      <th>4</th>\n",
              "      <td>0</td>\n",
              "      <td>0</td>\n",
              "    </tr>\n",
              "    <tr>\n",
              "      <th>...</th>\n",
              "      <td>...</td>\n",
              "      <td>...</td>\n",
              "    </tr>\n",
              "    <tr>\n",
              "      <th>18176</th>\n",
              "      <td>0</td>\n",
              "      <td>0</td>\n",
              "    </tr>\n",
              "    <tr>\n",
              "      <th>18177</th>\n",
              "      <td>0</td>\n",
              "      <td>0</td>\n",
              "    </tr>\n",
              "    <tr>\n",
              "      <th>18178</th>\n",
              "      <td>0</td>\n",
              "      <td>0</td>\n",
              "    </tr>\n",
              "    <tr>\n",
              "      <th>18179</th>\n",
              "      <td>0</td>\n",
              "      <td>0</td>\n",
              "    </tr>\n",
              "    <tr>\n",
              "      <th>18180</th>\n",
              "      <td>1</td>\n",
              "      <td>0</td>\n",
              "    </tr>\n",
              "  </tbody>\n",
              "</table>\n",
              "<p>18181 rows × 2 columns</p>\n",
              "</div>"
            ],
            "text/plain": [
              "       Pasti  Prediksi\n",
              "0          1         0\n",
              "1          0         0\n",
              "2          0         0\n",
              "3          0         1\n",
              "4          0         0\n",
              "...      ...       ...\n",
              "18176      0         0\n",
              "18177      0         0\n",
              "18178      0         0\n",
              "18179      0         0\n",
              "18180      1         0\n",
              "\n",
              "[18181 rows x 2 columns]"
            ]
          },
          "metadata": {
            "tags": []
          },
          "execution_count": 16
        }
      ]
    },
    {
      "cell_type": "markdown",
      "metadata": {
        "id": "feYzswE24lKQ"
      },
      "source": [
        "# Evaluasi"
      ]
    },
    {
      "cell_type": "markdown",
      "metadata": {
        "id": "_8kJ_IG6EWaJ"
      },
      "source": [
        "Evaluasi dilakukan menggunakan **Classification Report, Confusion Matrix dan Accuracy Score**"
      ]
    },
    {
      "cell_type": "code",
      "metadata": {
        "colab": {
          "base_uri": "https://localhost:8080/"
        },
        "id": "TDqhq3POkhPZ",
        "outputId": "edfb1a72-af6e-48a4-b3f8-96ef57ac50be"
      },
      "source": [
        "from sklearn.metrics import classification_report\n",
        "\n",
        "print(classification_report(y_test, predict, digits=4))"
      ],
      "execution_count": 17,
      "outputs": [
        {
          "output_type": "stream",
          "text": [
            "              precision    recall  f1-score   support\n",
            "\n",
            "           0     0.8311    0.9560    0.8892     14242\n",
            "           1     0.6518    0.2975    0.4086      3939\n",
            "\n",
            "    accuracy                         0.8134     18181\n",
            "   macro avg     0.7415    0.6268    0.6489     18181\n",
            "weighted avg     0.7923    0.8134    0.7851     18181\n",
            "\n"
          ],
          "name": "stdout"
        }
      ]
    },
    {
      "cell_type": "code",
      "metadata": {
        "colab": {
          "base_uri": "https://localhost:8080/"
        },
        "id": "ztbf6hdsrQlm",
        "outputId": "7d8c0938-84f3-4b5c-e818-eb4f8e163d3a"
      },
      "source": [
        "# confusion matrix\n",
        "cm = confusion_matrix(y_test, predict)\n",
        "print(\"Akurasi Prediksi : \",np.round(accuracy_score(y_test, predict) * 100),\"%\")\n",
        "\n",
        "print(\"Hasil dari Confusion Matrix\")\n",
        "print(cm)\n"
      ],
      "execution_count": 18,
      "outputs": [
        {
          "output_type": "stream",
          "text": [
            "Akurasi Prediksi :  81.0 %\n",
            "Hasil dari Confusion Matrix\n",
            "[[13616   626]\n",
            " [ 2767  1172]]\n"
          ],
          "name": "stdout"
        }
      ]
    },
    {
      "cell_type": "markdown",
      "metadata": {
        "id": "rRZ18RMb5D9F"
      },
      "source": [
        "# Eksperimen Menggunakan KNN"
      ]
    },
    {
      "cell_type": "markdown",
      "metadata": {
        "id": "VFwLBGN5Esad"
      },
      "source": [
        "Pada tahap eksperimen ini dilakukan dengan metode **KNN** untuk mengetahui apakah prediksi dari akurasi model lebih tinggi dari **Logistic Regression**"
      ]
    },
    {
      "cell_type": "code",
      "metadata": {
        "id": "jqefkyRdkhnU"
      },
      "source": [
        "knn_x_test = df_salju_test.iloc[1:, :-1].values\n",
        "knn_y_test = df_salju_test.iloc[1:, -1].values\n",
        "\n",
        "knn_x_train = df_salju_train.iloc[1:, :-1].values\n",
        "knn_y_train = df_salju_train.iloc[1:, -1].values"
      ],
      "execution_count": 19,
      "outputs": []
    },
    {
      "cell_type": "code",
      "metadata": {
        "id": "CfpDaT3ClVwT"
      },
      "source": [
        "scaler = MinMaxScaler()\n",
        "knn_x_train = scaler.fit_transform(x_train)\n",
        "knn_x_test = scaler.transform(x_test)"
      ],
      "execution_count": 20,
      "outputs": []
    },
    {
      "cell_type": "markdown",
      "metadata": {
        "id": "2ow5Wc7YGc-E"
      },
      "source": [
        "Memanggil Library KNN untuk mengklasifikasi data"
      ]
    },
    {
      "cell_type": "code",
      "metadata": {
        "colab": {
          "base_uri": "https://localhost:8080/"
        },
        "id": "Z1JGkBSKljrq",
        "outputId": "84cc61bb-3842-48bc-a0db-6be962fc9a6d"
      },
      "source": [
        "from sklearn.neighbors import KNeighborsClassifier\n",
        "model_knn = KNeighborsClassifier(n_neighbors = 5)\n",
        "model_knn.fit(knn_x_train, knn_y_train)"
      ],
      "execution_count": 21,
      "outputs": [
        {
          "output_type": "execute_result",
          "data": {
            "text/plain": [
              "KNeighborsClassifier(algorithm='auto', leaf_size=30, metric='minkowski',\n",
              "                     metric_params=None, n_jobs=None, n_neighbors=5, p=2,\n",
              "                     weights='uniform')"
            ]
          },
          "metadata": {
            "tags": []
          },
          "execution_count": 21
        }
      ]
    },
    {
      "cell_type": "code",
      "metadata": {
        "colab": {
          "base_uri": "https://localhost:8080/",
          "height": 419
        },
        "id": "wZfCR7XNlrWU",
        "outputId": "626bc218-f81e-4cd1-dd8b-48489bea0c0c"
      },
      "source": [
        "pred_knn = model_knn.predict(knn_x_test)\n",
        "result_knn = pd.concat([pd.DataFrame(knn_y_test, columns=['Pasti']), pd.DataFrame(pred_knn, columns=['Prediksi'])], axis=1)\n",
        "result_knn"
      ],
      "execution_count": 22,
      "outputs": [
        {
          "output_type": "execute_result",
          "data": {
            "text/html": [
              "<div>\n",
              "<style scoped>\n",
              "    .dataframe tbody tr th:only-of-type {\n",
              "        vertical-align: middle;\n",
              "    }\n",
              "\n",
              "    .dataframe tbody tr th {\n",
              "        vertical-align: top;\n",
              "    }\n",
              "\n",
              "    .dataframe thead th {\n",
              "        text-align: right;\n",
              "    }\n",
              "</style>\n",
              "<table border=\"1\" class=\"dataframe\">\n",
              "  <thead>\n",
              "    <tr style=\"text-align: right;\">\n",
              "      <th></th>\n",
              "      <th>Pasti</th>\n",
              "      <th>Prediksi</th>\n",
              "    </tr>\n",
              "  </thead>\n",
              "  <tbody>\n",
              "    <tr>\n",
              "      <th>0</th>\n",
              "      <td>1</td>\n",
              "      <td>0</td>\n",
              "    </tr>\n",
              "    <tr>\n",
              "      <th>1</th>\n",
              "      <td>0</td>\n",
              "      <td>0</td>\n",
              "    </tr>\n",
              "    <tr>\n",
              "      <th>2</th>\n",
              "      <td>0</td>\n",
              "      <td>0</td>\n",
              "    </tr>\n",
              "    <tr>\n",
              "      <th>3</th>\n",
              "      <td>0</td>\n",
              "      <td>1</td>\n",
              "    </tr>\n",
              "    <tr>\n",
              "      <th>4</th>\n",
              "      <td>0</td>\n",
              "      <td>0</td>\n",
              "    </tr>\n",
              "    <tr>\n",
              "      <th>...</th>\n",
              "      <td>...</td>\n",
              "      <td>...</td>\n",
              "    </tr>\n",
              "    <tr>\n",
              "      <th>18176</th>\n",
              "      <td>0</td>\n",
              "      <td>0</td>\n",
              "    </tr>\n",
              "    <tr>\n",
              "      <th>18177</th>\n",
              "      <td>0</td>\n",
              "      <td>0</td>\n",
              "    </tr>\n",
              "    <tr>\n",
              "      <th>18178</th>\n",
              "      <td>0</td>\n",
              "      <td>0</td>\n",
              "    </tr>\n",
              "    <tr>\n",
              "      <th>18179</th>\n",
              "      <td>0</td>\n",
              "      <td>0</td>\n",
              "    </tr>\n",
              "    <tr>\n",
              "      <th>18180</th>\n",
              "      <td>1</td>\n",
              "      <td>0</td>\n",
              "    </tr>\n",
              "  </tbody>\n",
              "</table>\n",
              "<p>18181 rows × 2 columns</p>\n",
              "</div>"
            ],
            "text/plain": [
              "       Pasti  Prediksi\n",
              "0          1         0\n",
              "1          0         0\n",
              "2          0         0\n",
              "3          0         1\n",
              "4          0         0\n",
              "...      ...       ...\n",
              "18176      0         0\n",
              "18177      0         0\n",
              "18178      0         0\n",
              "18179      0         0\n",
              "18180      1         0\n",
              "\n",
              "[18181 rows x 2 columns]"
            ]
          },
          "metadata": {
            "tags": []
          },
          "execution_count": 22
        }
      ]
    },
    {
      "cell_type": "code",
      "metadata": {
        "colab": {
          "base_uri": "https://localhost:8080/"
        },
        "id": "BF6LXpGfmKuh",
        "outputId": "845264ae-6436-4e53-c262-26232a1a2cda"
      },
      "source": [
        "print(classification_report(knn_y_test, pred_knn, digits=4))"
      ],
      "execution_count": 23,
      "outputs": [
        {
          "output_type": "stream",
          "text": [
            "              precision    recall  f1-score   support\n",
            "\n",
            "           0     0.8430    0.9186    0.8791     14242\n",
            "           1     0.5642    0.3813    0.4551      3939\n",
            "\n",
            "    accuracy                         0.8022     18181\n",
            "   macro avg     0.7036    0.6499    0.6671     18181\n",
            "weighted avg     0.7826    0.8022    0.7873     18181\n",
            "\n"
          ],
          "name": "stdout"
        }
      ]
    },
    {
      "cell_type": "code",
      "metadata": {
        "colab": {
          "base_uri": "https://localhost:8080/"
        },
        "id": "GB_oZdB7sX_P",
        "outputId": "68573841-ef71-4a3b-cbe5-0d4af2987a3f"
      },
      "source": [
        "# confusion matrix\n",
        "cm = confusion_matrix(knn_y_test, pred_knn)\n",
        "print(\"Akurasi Prediksi : \",format (np.round(accuracy_score(knn_y_test, pred_knn) * 100)),\"%\")\n",
        "\n",
        "print(\"Hasil dari Confusion Matrix\")\n",
        "print(cm)"
      ],
      "execution_count": 24,
      "outputs": [
        {
          "output_type": "stream",
          "text": [
            "Akurasi Prediksi :  80.0 %\n",
            "Hasil dari Confusion Matrix\n",
            "[[13082  1160]\n",
            " [ 2437  1502]]\n"
          ],
          "name": "stdout"
        }
      ]
    },
    {
      "cell_type": "markdown",
      "metadata": {
        "id": "kKBrch8bmbxh"
      },
      "source": [
        "# Kesimpulan"
      ]
    },
    {
      "cell_type": "markdown",
      "metadata": {
        "id": "1vP-nrG5qLMR"
      },
      "source": [
        "Klasifikasi utama menggunakan Logistic Regression diperoleh akurasi sebesar **0.81%** \n",
        "\n",
        "\n",
        "Pada eksperimen pertama dengan menggunakan metode KNN diperoleh hasil prediksi sebesar **0.80%**\n",
        "\n",
        "Sehingga dapat simpulkan bahwa metode klasifikasi yang tertinggi untuk akurasi adalah metode Logistic Regression"
      ]
    }
  ]
}
